{
  "cells": [
    {
      "cell_type": "markdown",
      "metadata": {
        "id": "r3yKdhB8jFQj"
      },
      "source": [
        "## **Load Libraries and Dataset**"
      ]
    },
    {
      "cell_type": "code",
      "execution_count": 15,
      "metadata": {
        "id": "Dd9Nfh6cGH-P"
      },
      "outputs": [],
      "source": [
        "import pandas as pd\n",
        "import numpy as np\n",
        "import matplotlib.pyplot as plt\n",
        "import seaborn as sns\n",
        "import time\n",
        "\n",
        "from sklearn.linear_model import LogisticRegression\n",
        "from sklearn.tree import DecisionTreeClassifier\n",
        "from sklearn.neighbors import KNeighborsClassifier\n",
        "from sklearn.svm import SVC\n",
        "from sklearn.ensemble import VotingClassifier, AdaBoostClassifier, RandomForestClassifier, BaggingClassifier\n",
        "\n",
        "from sklearn.model_selection import train_test_split, GridSearchCV\n",
        "from sklearn.preprocessing import StandardScaler, minmax_scale\n",
        "from sklearn.metrics import classification_report, confusion_matrix\n",
        "\n",
        "import warnings\n",
        "warnings.filterwarnings(\"ignore\")"
      ]
    },
    {
      "cell_type": "code",
      "execution_count": 16,
      "metadata": {
        "id": "6XYbBkuCH9l7"
      },
      "outputs": [],
      "source": [
        "url = 'https://raw.githubusercontent.com/stevanusfebrian/ph-dataset/main/ph-data.csv'\n",
        "df = pd.read_csv(url)"
      ]
    },
    {
      "cell_type": "code",
      "execution_count": 17,
      "metadata": {
        "colab": {
          "base_uri": "https://localhost:8080/",
          "height": 206
        },
        "id": "8rzMA5Y-J96p",
        "outputId": "e6d3c475-951c-4659-bb5e-6f98c2018925"
      },
      "outputs": [
        {
          "output_type": "execute_result",
          "data": {
            "text/plain": [
              "   blue  green  red  label\n",
              "0    36     27  231      0\n",
              "1    36     84  250      1\n",
              "2    37    164  255      2\n",
              "3    22    205  255      3\n",
              "4    38    223  221      4"
            ],
            "text/html": [
              "\n",
              "  <div id=\"df-cc569f98-a5c4-477b-9fa9-8fd3f8dc04db\">\n",
              "    <div class=\"colab-df-container\">\n",
              "      <div>\n",
              "<style scoped>\n",
              "    .dataframe tbody tr th:only-of-type {\n",
              "        vertical-align: middle;\n",
              "    }\n",
              "\n",
              "    .dataframe tbody tr th {\n",
              "        vertical-align: top;\n",
              "    }\n",
              "\n",
              "    .dataframe thead th {\n",
              "        text-align: right;\n",
              "    }\n",
              "</style>\n",
              "<table border=\"1\" class=\"dataframe\">\n",
              "  <thead>\n",
              "    <tr style=\"text-align: right;\">\n",
              "      <th></th>\n",
              "      <th>blue</th>\n",
              "      <th>green</th>\n",
              "      <th>red</th>\n",
              "      <th>label</th>\n",
              "    </tr>\n",
              "  </thead>\n",
              "  <tbody>\n",
              "    <tr>\n",
              "      <th>0</th>\n",
              "      <td>36</td>\n",
              "      <td>27</td>\n",
              "      <td>231</td>\n",
              "      <td>0</td>\n",
              "    </tr>\n",
              "    <tr>\n",
              "      <th>1</th>\n",
              "      <td>36</td>\n",
              "      <td>84</td>\n",
              "      <td>250</td>\n",
              "      <td>1</td>\n",
              "    </tr>\n",
              "    <tr>\n",
              "      <th>2</th>\n",
              "      <td>37</td>\n",
              "      <td>164</td>\n",
              "      <td>255</td>\n",
              "      <td>2</td>\n",
              "    </tr>\n",
              "    <tr>\n",
              "      <th>3</th>\n",
              "      <td>22</td>\n",
              "      <td>205</td>\n",
              "      <td>255</td>\n",
              "      <td>3</td>\n",
              "    </tr>\n",
              "    <tr>\n",
              "      <th>4</th>\n",
              "      <td>38</td>\n",
              "      <td>223</td>\n",
              "      <td>221</td>\n",
              "      <td>4</td>\n",
              "    </tr>\n",
              "  </tbody>\n",
              "</table>\n",
              "</div>\n",
              "      <button class=\"colab-df-convert\" onclick=\"convertToInteractive('df-cc569f98-a5c4-477b-9fa9-8fd3f8dc04db')\"\n",
              "              title=\"Convert this dataframe to an interactive table.\"\n",
              "              style=\"display:none;\">\n",
              "        \n",
              "  <svg xmlns=\"http://www.w3.org/2000/svg\" height=\"24px\"viewBox=\"0 0 24 24\"\n",
              "       width=\"24px\">\n",
              "    <path d=\"M0 0h24v24H0V0z\" fill=\"none\"/>\n",
              "    <path d=\"M18.56 5.44l.94 2.06.94-2.06 2.06-.94-2.06-.94-.94-2.06-.94 2.06-2.06.94zm-11 1L8.5 8.5l.94-2.06 2.06-.94-2.06-.94L8.5 2.5l-.94 2.06-2.06.94zm10 10l.94 2.06.94-2.06 2.06-.94-2.06-.94-.94-2.06-.94 2.06-2.06.94z\"/><path d=\"M17.41 7.96l-1.37-1.37c-.4-.4-.92-.59-1.43-.59-.52 0-1.04.2-1.43.59L10.3 9.45l-7.72 7.72c-.78.78-.78 2.05 0 2.83L4 21.41c.39.39.9.59 1.41.59.51 0 1.02-.2 1.41-.59l7.78-7.78 2.81-2.81c.8-.78.8-2.07 0-2.86zM5.41 20L4 18.59l7.72-7.72 1.47 1.35L5.41 20z\"/>\n",
              "  </svg>\n",
              "      </button>\n",
              "      \n",
              "  <style>\n",
              "    .colab-df-container {\n",
              "      display:flex;\n",
              "      flex-wrap:wrap;\n",
              "      gap: 12px;\n",
              "    }\n",
              "\n",
              "    .colab-df-convert {\n",
              "      background-color: #E8F0FE;\n",
              "      border: none;\n",
              "      border-radius: 50%;\n",
              "      cursor: pointer;\n",
              "      display: none;\n",
              "      fill: #1967D2;\n",
              "      height: 32px;\n",
              "      padding: 0 0 0 0;\n",
              "      width: 32px;\n",
              "    }\n",
              "\n",
              "    .colab-df-convert:hover {\n",
              "      background-color: #E2EBFA;\n",
              "      box-shadow: 0px 1px 2px rgba(60, 64, 67, 0.3), 0px 1px 3px 1px rgba(60, 64, 67, 0.15);\n",
              "      fill: #174EA6;\n",
              "    }\n",
              "\n",
              "    [theme=dark] .colab-df-convert {\n",
              "      background-color: #3B4455;\n",
              "      fill: #D2E3FC;\n",
              "    }\n",
              "\n",
              "    [theme=dark] .colab-df-convert:hover {\n",
              "      background-color: #434B5C;\n",
              "      box-shadow: 0px 1px 3px 1px rgba(0, 0, 0, 0.15);\n",
              "      filter: drop-shadow(0px 1px 2px rgba(0, 0, 0, 0.3));\n",
              "      fill: #FFFFFF;\n",
              "    }\n",
              "  </style>\n",
              "\n",
              "      <script>\n",
              "        const buttonEl =\n",
              "          document.querySelector('#df-cc569f98-a5c4-477b-9fa9-8fd3f8dc04db button.colab-df-convert');\n",
              "        buttonEl.style.display =\n",
              "          google.colab.kernel.accessAllowed ? 'block' : 'none';\n",
              "\n",
              "        async function convertToInteractive(key) {\n",
              "          const element = document.querySelector('#df-cc569f98-a5c4-477b-9fa9-8fd3f8dc04db');\n",
              "          const dataTable =\n",
              "            await google.colab.kernel.invokeFunction('convertToInteractive',\n",
              "                                                     [key], {});\n",
              "          if (!dataTable) return;\n",
              "\n",
              "          const docLinkHtml = 'Like what you see? Visit the ' +\n",
              "            '<a target=\"_blank\" href=https://colab.research.google.com/notebooks/data_table.ipynb>data table notebook</a>'\n",
              "            + ' to learn more about interactive tables.';\n",
              "          element.innerHTML = '';\n",
              "          dataTable['output_type'] = 'display_data';\n",
              "          await google.colab.output.renderOutput(dataTable, element);\n",
              "          const docLink = document.createElement('div');\n",
              "          docLink.innerHTML = docLinkHtml;\n",
              "          element.appendChild(docLink);\n",
              "        }\n",
              "      </script>\n",
              "    </div>\n",
              "  </div>\n",
              "  "
            ]
          },
          "metadata": {},
          "execution_count": 17
        }
      ],
      "source": [
        "df.head()"
      ]
    },
    {
      "cell_type": "code",
      "execution_count": 18,
      "metadata": {
        "colab": {
          "base_uri": "https://localhost:8080/",
          "height": 206
        },
        "id": "XPB23Q4fKCd-",
        "outputId": "7a8d11f4-a73a-4c1e-b3ac-35462df268dd"
      },
      "outputs": [
        {
          "output_type": "execute_result",
          "data": {
            "text/plain": [
              "     blue  green  red  label\n",
              "648   201    123    0     10\n",
              "649   203     51   46     11\n",
              "650   169     62   48     12\n",
              "651   173     37   79     13\n",
              "652   131      2   77     14"
            ],
            "text/html": [
              "\n",
              "  <div id=\"df-8dbfc6d8-eb18-49d3-ba3a-1f4444ce5f12\">\n",
              "    <div class=\"colab-df-container\">\n",
              "      <div>\n",
              "<style scoped>\n",
              "    .dataframe tbody tr th:only-of-type {\n",
              "        vertical-align: middle;\n",
              "    }\n",
              "\n",
              "    .dataframe tbody tr th {\n",
              "        vertical-align: top;\n",
              "    }\n",
              "\n",
              "    .dataframe thead th {\n",
              "        text-align: right;\n",
              "    }\n",
              "</style>\n",
              "<table border=\"1\" class=\"dataframe\">\n",
              "  <thead>\n",
              "    <tr style=\"text-align: right;\">\n",
              "      <th></th>\n",
              "      <th>blue</th>\n",
              "      <th>green</th>\n",
              "      <th>red</th>\n",
              "      <th>label</th>\n",
              "    </tr>\n",
              "  </thead>\n",
              "  <tbody>\n",
              "    <tr>\n",
              "      <th>648</th>\n",
              "      <td>201</td>\n",
              "      <td>123</td>\n",
              "      <td>0</td>\n",
              "      <td>10</td>\n",
              "    </tr>\n",
              "    <tr>\n",
              "      <th>649</th>\n",
              "      <td>203</td>\n",
              "      <td>51</td>\n",
              "      <td>46</td>\n",
              "      <td>11</td>\n",
              "    </tr>\n",
              "    <tr>\n",
              "      <th>650</th>\n",
              "      <td>169</td>\n",
              "      <td>62</td>\n",
              "      <td>48</td>\n",
              "      <td>12</td>\n",
              "    </tr>\n",
              "    <tr>\n",
              "      <th>651</th>\n",
              "      <td>173</td>\n",
              "      <td>37</td>\n",
              "      <td>79</td>\n",
              "      <td>13</td>\n",
              "    </tr>\n",
              "    <tr>\n",
              "      <th>652</th>\n",
              "      <td>131</td>\n",
              "      <td>2</td>\n",
              "      <td>77</td>\n",
              "      <td>14</td>\n",
              "    </tr>\n",
              "  </tbody>\n",
              "</table>\n",
              "</div>\n",
              "      <button class=\"colab-df-convert\" onclick=\"convertToInteractive('df-8dbfc6d8-eb18-49d3-ba3a-1f4444ce5f12')\"\n",
              "              title=\"Convert this dataframe to an interactive table.\"\n",
              "              style=\"display:none;\">\n",
              "        \n",
              "  <svg xmlns=\"http://www.w3.org/2000/svg\" height=\"24px\"viewBox=\"0 0 24 24\"\n",
              "       width=\"24px\">\n",
              "    <path d=\"M0 0h24v24H0V0z\" fill=\"none\"/>\n",
              "    <path d=\"M18.56 5.44l.94 2.06.94-2.06 2.06-.94-2.06-.94-.94-2.06-.94 2.06-2.06.94zm-11 1L8.5 8.5l.94-2.06 2.06-.94-2.06-.94L8.5 2.5l-.94 2.06-2.06.94zm10 10l.94 2.06.94-2.06 2.06-.94-2.06-.94-.94-2.06-.94 2.06-2.06.94z\"/><path d=\"M17.41 7.96l-1.37-1.37c-.4-.4-.92-.59-1.43-.59-.52 0-1.04.2-1.43.59L10.3 9.45l-7.72 7.72c-.78.78-.78 2.05 0 2.83L4 21.41c.39.39.9.59 1.41.59.51 0 1.02-.2 1.41-.59l7.78-7.78 2.81-2.81c.8-.78.8-2.07 0-2.86zM5.41 20L4 18.59l7.72-7.72 1.47 1.35L5.41 20z\"/>\n",
              "  </svg>\n",
              "      </button>\n",
              "      \n",
              "  <style>\n",
              "    .colab-df-container {\n",
              "      display:flex;\n",
              "      flex-wrap:wrap;\n",
              "      gap: 12px;\n",
              "    }\n",
              "\n",
              "    .colab-df-convert {\n",
              "      background-color: #E8F0FE;\n",
              "      border: none;\n",
              "      border-radius: 50%;\n",
              "      cursor: pointer;\n",
              "      display: none;\n",
              "      fill: #1967D2;\n",
              "      height: 32px;\n",
              "      padding: 0 0 0 0;\n",
              "      width: 32px;\n",
              "    }\n",
              "\n",
              "    .colab-df-convert:hover {\n",
              "      background-color: #E2EBFA;\n",
              "      box-shadow: 0px 1px 2px rgba(60, 64, 67, 0.3), 0px 1px 3px 1px rgba(60, 64, 67, 0.15);\n",
              "      fill: #174EA6;\n",
              "    }\n",
              "\n",
              "    [theme=dark] .colab-df-convert {\n",
              "      background-color: #3B4455;\n",
              "      fill: #D2E3FC;\n",
              "    }\n",
              "\n",
              "    [theme=dark] .colab-df-convert:hover {\n",
              "      background-color: #434B5C;\n",
              "      box-shadow: 0px 1px 3px 1px rgba(0, 0, 0, 0.15);\n",
              "      filter: drop-shadow(0px 1px 2px rgba(0, 0, 0, 0.3));\n",
              "      fill: #FFFFFF;\n",
              "    }\n",
              "  </style>\n",
              "\n",
              "      <script>\n",
              "        const buttonEl =\n",
              "          document.querySelector('#df-8dbfc6d8-eb18-49d3-ba3a-1f4444ce5f12 button.colab-df-convert');\n",
              "        buttonEl.style.display =\n",
              "          google.colab.kernel.accessAllowed ? 'block' : 'none';\n",
              "\n",
              "        async function convertToInteractive(key) {\n",
              "          const element = document.querySelector('#df-8dbfc6d8-eb18-49d3-ba3a-1f4444ce5f12');\n",
              "          const dataTable =\n",
              "            await google.colab.kernel.invokeFunction('convertToInteractive',\n",
              "                                                     [key], {});\n",
              "          if (!dataTable) return;\n",
              "\n",
              "          const docLinkHtml = 'Like what you see? Visit the ' +\n",
              "            '<a target=\"_blank\" href=https://colab.research.google.com/notebooks/data_table.ipynb>data table notebook</a>'\n",
              "            + ' to learn more about interactive tables.';\n",
              "          element.innerHTML = '';\n",
              "          dataTable['output_type'] = 'display_data';\n",
              "          await google.colab.output.renderOutput(dataTable, element);\n",
              "          const docLink = document.createElement('div');\n",
              "          docLink.innerHTML = docLinkHtml;\n",
              "          element.appendChild(docLink);\n",
              "        }\n",
              "      </script>\n",
              "    </div>\n",
              "  </div>\n",
              "  "
            ]
          },
          "metadata": {},
          "execution_count": 18
        }
      ],
      "source": [
        "df.tail()"
      ]
    },
    {
      "cell_type": "code",
      "source": [
        "df.info()"
      ],
      "metadata": {
        "colab": {
          "base_uri": "https://localhost:8080/"
        },
        "id": "jT0-Wi-q07NJ",
        "outputId": "f6d89ef5-d602-4620-ffa5-4f7d04a7068f"
      },
      "execution_count": 19,
      "outputs": [
        {
          "output_type": "stream",
          "name": "stdout",
          "text": [
            "<class 'pandas.core.frame.DataFrame'>\n",
            "RangeIndex: 653 entries, 0 to 652\n",
            "Data columns (total 4 columns):\n",
            " #   Column  Non-Null Count  Dtype\n",
            "---  ------  --------------  -----\n",
            " 0   blue    653 non-null    int64\n",
            " 1   green   653 non-null    int64\n",
            " 2   red     653 non-null    int64\n",
            " 3   label   653 non-null    int64\n",
            "dtypes: int64(4)\n",
            "memory usage: 20.5 KB\n"
          ]
        }
      ]
    },
    {
      "cell_type": "code",
      "execution_count": 20,
      "metadata": {
        "colab": {
          "base_uri": "https://localhost:8080/"
        },
        "id": "WfzO6UolpUsc",
        "outputId": "71b27838-65b4-4e1f-b944-0a65118e9029"
      },
      "outputs": [
        {
          "output_type": "execute_result",
          "data": {
            "text/plain": [
              "1     44\n",
              "2     44\n",
              "3     44\n",
              "4     44\n",
              "5     44\n",
              "6     44\n",
              "7     44\n",
              "8     44\n",
              "9     44\n",
              "10    44\n",
              "11    44\n",
              "12    44\n",
              "14    44\n",
              "13    43\n",
              "0     38\n",
              "Name: label, dtype: int64"
            ]
          },
          "metadata": {},
          "execution_count": 20
        }
      ],
      "source": [
        "df['label'].value_counts()"
      ]
    },
    {
      "cell_type": "markdown",
      "metadata": {
        "id": "dnzXxOtfoE1C"
      },
      "source": [
        "Setiap label memiliki 44 data yang dapat digunakan. Karena itu sangat sedikit, kami akan mengubah klasifikasi antara ph \"asam kuat\"/\"Strong Acidic, \"Asam Lemah\"/\"Weak Acidic\", \"Basa Lemah\"/\"Weak Alkaline\", dan \"Basa Kuat\"/\"Strong Alkaline\" dengan mengubah: label dari nilai 0-3 menjadi \"Strong Acidic\", lalu label 4-6 adalah \"Weak Acidic\", label 8-10 menjadi \"Weak Alkaline\", dan label bernilai 11-14 menjadi \"Strong Alkaline\""
      ]
    },
    {
      "cell_type": "code",
      "execution_count": 21,
      "metadata": {
        "id": "dlmW6tB4oAlX"
      },
      "outputs": [],
      "source": [
        "df['label'] = df['label'].replace([0,1,2,3],'Strong Acidic')\n",
        "df['label'] = df['label'].replace([4,5,6],'Weak Acidic')\n",
        "df['label'] = df['label'].replace([7],'Neutral')\n",
        "df['label'] = df['label'].replace([8,9,10],'Weak Alkaline')\n",
        "df['label'] = df['label'].replace([11,12,13,14],'Strong Alkaline')"
      ]
    },
    {
      "cell_type": "markdown",
      "source": [
        "disini kami mengkategorikan nilai pH kedalam 5 bagian, yakni terdapat kategori 'Strong Acidic', 'Weak Acidic', 'Neutral', Weak Alkaline', 'Strong Alkaline'"
      ],
      "metadata": {
        "id": "yTYNciexz9g7"
      }
    },
    {
      "cell_type": "code",
      "execution_count": 22,
      "metadata": {
        "id": "I-lGlEmP5V8L"
      },
      "outputs": [],
      "source": [
        "df = df[df.label != 'Neutral']"
      ]
    },
    {
      "cell_type": "markdown",
      "source": [
        "kami menghapus label 'neutral' karena kami tidak memerlukan label ini, untuk mencapai tujuan kita yaitu menentukan kuat lemah dari asam atau basa."
      ],
      "metadata": {
        "id": "GbuEqmb30VeN"
      }
    },
    {
      "cell_type": "markdown",
      "source": [
        "dapat dilihat count dari asam dan basa kuat lebih banyak daripada count asam dan basa lemah"
      ],
      "metadata": {
        "id": "_hRcabhv0oEr"
      }
    },
    {
      "cell_type": "code",
      "execution_count": 23,
      "metadata": {
        "colab": {
          "base_uri": "https://localhost:8080/"
        },
        "id": "X12Cw9uPKFXn",
        "outputId": "95f2e1d8-12b5-4c64-9c6d-95bc1547b00a"
      },
      "outputs": [
        {
          "output_type": "stream",
          "name": "stdout",
          "text": [
            "<class 'pandas.core.frame.DataFrame'>\n",
            "Int64Index: 609 entries, 0 to 652\n",
            "Data columns (total 4 columns):\n",
            " #   Column  Non-Null Count  Dtype \n",
            "---  ------  --------------  ----- \n",
            " 0   blue    609 non-null    int64 \n",
            " 1   green   609 non-null    int64 \n",
            " 2   red     609 non-null    int64 \n",
            " 3   label   609 non-null    object\n",
            "dtypes: int64(3), object(1)\n",
            "memory usage: 23.8+ KB\n"
          ]
        }
      ],
      "source": [
        "df.info()"
      ]
    },
    {
      "cell_type": "code",
      "execution_count": 24,
      "metadata": {
        "colab": {
          "base_uri": "https://localhost:8080/"
        },
        "id": "tJT7aSD29qPi",
        "outputId": "7f90990e-98cc-4e16-cf6a-481f90797f6d"
      },
      "outputs": [
        {
          "output_type": "execute_result",
          "data": {
            "text/plain": [
              "Strong Alkaline    175\n",
              "Strong Acidic      170\n",
              "Weak Acidic        132\n",
              "Weak Alkaline      132\n",
              "Name: label, dtype: int64"
            ]
          },
          "metadata": {},
          "execution_count": 24
        }
      ],
      "source": [
        "df['label'].value_counts()"
      ]
    },
    {
      "cell_type": "markdown",
      "source": [
        "setelah mengubah dan mengdrop data yang bernilai 'Neutral', kolom label sudah menjadi object, dan terdapat 44 baris data yang terhapus karena bernilai 'Neutral'"
      ],
      "metadata": {
        "id": "XPEk0CUc1VRy"
      }
    },
    {
      "cell_type": "code",
      "execution_count": 25,
      "metadata": {
        "colab": {
          "base_uri": "https://localhost:8080/"
        },
        "id": "q8w19y3PKItu",
        "outputId": "5b83a69e-24b6-4906-9f37-9cde66c2e303"
      },
      "outputs": [
        {
          "output_type": "stream",
          "name": "stdout",
          "text": [
            "blue     0\n",
            "green    0\n",
            "red      0\n",
            "label    0\n",
            "dtype: int64\n"
          ]
        }
      ],
      "source": [
        "print(df.isnull().sum())"
      ]
    },
    {
      "cell_type": "markdown",
      "source": [
        "tidak terdapat missing value pada semua kolom dalam dataset yang digunakan."
      ],
      "metadata": {
        "id": "LcrDAAin1puA"
      }
    },
    {
      "cell_type": "markdown",
      "metadata": {
        "id": "-ILFuGxcjuo9"
      },
      "source": [
        "# **Descriptive Statistics**"
      ]
    },
    {
      "cell_type": "code",
      "execution_count": 26,
      "metadata": {
        "colab": {
          "base_uri": "https://localhost:8080/",
          "height": 143
        },
        "id": "YOpPzeyIKPv2",
        "outputId": "ad1037bc-4947-4efc-eb75-839f5d74a704"
      },
      "outputs": [
        {
          "output_type": "execute_result",
          "data": {
            "text/plain": [
              "       count        mean        std  min   25%    50%    75%    max\n",
              "blue   609.0   92.623974  76.008341  0.0  24.0   72.0  164.0  255.0\n",
              "green  609.0  126.924466  73.728281  0.0  64.0  143.0  190.0  255.0\n",
              "red    609.0  125.525452  89.480866  0.0  56.0   97.0  229.0  255.0"
            ],
            "text/html": [
              "\n",
              "  <div id=\"df-b75b7bb4-6b77-4a0e-8d48-c5e4a1dacae1\">\n",
              "    <div class=\"colab-df-container\">\n",
              "      <div>\n",
              "<style scoped>\n",
              "    .dataframe tbody tr th:only-of-type {\n",
              "        vertical-align: middle;\n",
              "    }\n",
              "\n",
              "    .dataframe tbody tr th {\n",
              "        vertical-align: top;\n",
              "    }\n",
              "\n",
              "    .dataframe thead th {\n",
              "        text-align: right;\n",
              "    }\n",
              "</style>\n",
              "<table border=\"1\" class=\"dataframe\">\n",
              "  <thead>\n",
              "    <tr style=\"text-align: right;\">\n",
              "      <th></th>\n",
              "      <th>count</th>\n",
              "      <th>mean</th>\n",
              "      <th>std</th>\n",
              "      <th>min</th>\n",
              "      <th>25%</th>\n",
              "      <th>50%</th>\n",
              "      <th>75%</th>\n",
              "      <th>max</th>\n",
              "    </tr>\n",
              "  </thead>\n",
              "  <tbody>\n",
              "    <tr>\n",
              "      <th>blue</th>\n",
              "      <td>609.0</td>\n",
              "      <td>92.623974</td>\n",
              "      <td>76.008341</td>\n",
              "      <td>0.0</td>\n",
              "      <td>24.0</td>\n",
              "      <td>72.0</td>\n",
              "      <td>164.0</td>\n",
              "      <td>255.0</td>\n",
              "    </tr>\n",
              "    <tr>\n",
              "      <th>green</th>\n",
              "      <td>609.0</td>\n",
              "      <td>126.924466</td>\n",
              "      <td>73.728281</td>\n",
              "      <td>0.0</td>\n",
              "      <td>64.0</td>\n",
              "      <td>143.0</td>\n",
              "      <td>190.0</td>\n",
              "      <td>255.0</td>\n",
              "    </tr>\n",
              "    <tr>\n",
              "      <th>red</th>\n",
              "      <td>609.0</td>\n",
              "      <td>125.525452</td>\n",
              "      <td>89.480866</td>\n",
              "      <td>0.0</td>\n",
              "      <td>56.0</td>\n",
              "      <td>97.0</td>\n",
              "      <td>229.0</td>\n",
              "      <td>255.0</td>\n",
              "    </tr>\n",
              "  </tbody>\n",
              "</table>\n",
              "</div>\n",
              "      <button class=\"colab-df-convert\" onclick=\"convertToInteractive('df-b75b7bb4-6b77-4a0e-8d48-c5e4a1dacae1')\"\n",
              "              title=\"Convert this dataframe to an interactive table.\"\n",
              "              style=\"display:none;\">\n",
              "        \n",
              "  <svg xmlns=\"http://www.w3.org/2000/svg\" height=\"24px\"viewBox=\"0 0 24 24\"\n",
              "       width=\"24px\">\n",
              "    <path d=\"M0 0h24v24H0V0z\" fill=\"none\"/>\n",
              "    <path d=\"M18.56 5.44l.94 2.06.94-2.06 2.06-.94-2.06-.94-.94-2.06-.94 2.06-2.06.94zm-11 1L8.5 8.5l.94-2.06 2.06-.94-2.06-.94L8.5 2.5l-.94 2.06-2.06.94zm10 10l.94 2.06.94-2.06 2.06-.94-2.06-.94-.94-2.06-.94 2.06-2.06.94z\"/><path d=\"M17.41 7.96l-1.37-1.37c-.4-.4-.92-.59-1.43-.59-.52 0-1.04.2-1.43.59L10.3 9.45l-7.72 7.72c-.78.78-.78 2.05 0 2.83L4 21.41c.39.39.9.59 1.41.59.51 0 1.02-.2 1.41-.59l7.78-7.78 2.81-2.81c.8-.78.8-2.07 0-2.86zM5.41 20L4 18.59l7.72-7.72 1.47 1.35L5.41 20z\"/>\n",
              "  </svg>\n",
              "      </button>\n",
              "      \n",
              "  <style>\n",
              "    .colab-df-container {\n",
              "      display:flex;\n",
              "      flex-wrap:wrap;\n",
              "      gap: 12px;\n",
              "    }\n",
              "\n",
              "    .colab-df-convert {\n",
              "      background-color: #E8F0FE;\n",
              "      border: none;\n",
              "      border-radius: 50%;\n",
              "      cursor: pointer;\n",
              "      display: none;\n",
              "      fill: #1967D2;\n",
              "      height: 32px;\n",
              "      padding: 0 0 0 0;\n",
              "      width: 32px;\n",
              "    }\n",
              "\n",
              "    .colab-df-convert:hover {\n",
              "      background-color: #E2EBFA;\n",
              "      box-shadow: 0px 1px 2px rgba(60, 64, 67, 0.3), 0px 1px 3px 1px rgba(60, 64, 67, 0.15);\n",
              "      fill: #174EA6;\n",
              "    }\n",
              "\n",
              "    [theme=dark] .colab-df-convert {\n",
              "      background-color: #3B4455;\n",
              "      fill: #D2E3FC;\n",
              "    }\n",
              "\n",
              "    [theme=dark] .colab-df-convert:hover {\n",
              "      background-color: #434B5C;\n",
              "      box-shadow: 0px 1px 3px 1px rgba(0, 0, 0, 0.15);\n",
              "      filter: drop-shadow(0px 1px 2px rgba(0, 0, 0, 0.3));\n",
              "      fill: #FFFFFF;\n",
              "    }\n",
              "  </style>\n",
              "\n",
              "      <script>\n",
              "        const buttonEl =\n",
              "          document.querySelector('#df-b75b7bb4-6b77-4a0e-8d48-c5e4a1dacae1 button.colab-df-convert');\n",
              "        buttonEl.style.display =\n",
              "          google.colab.kernel.accessAllowed ? 'block' : 'none';\n",
              "\n",
              "        async function convertToInteractive(key) {\n",
              "          const element = document.querySelector('#df-b75b7bb4-6b77-4a0e-8d48-c5e4a1dacae1');\n",
              "          const dataTable =\n",
              "            await google.colab.kernel.invokeFunction('convertToInteractive',\n",
              "                                                     [key], {});\n",
              "          if (!dataTable) return;\n",
              "\n",
              "          const docLinkHtml = 'Like what you see? Visit the ' +\n",
              "            '<a target=\"_blank\" href=https://colab.research.google.com/notebooks/data_table.ipynb>data table notebook</a>'\n",
              "            + ' to learn more about interactive tables.';\n",
              "          element.innerHTML = '';\n",
              "          dataTable['output_type'] = 'display_data';\n",
              "          await google.colab.output.renderOutput(dataTable, element);\n",
              "          const docLink = document.createElement('div');\n",
              "          docLink.innerHTML = docLinkHtml;\n",
              "          element.appendChild(docLink);\n",
              "        }\n",
              "      </script>\n",
              "    </div>\n",
              "  </div>\n",
              "  "
            ]
          },
          "metadata": {},
          "execution_count": 26
        }
      ],
      "source": [
        "df.describe().T"
      ]
    },
    {
      "cell_type": "markdown",
      "source": [
        "nilai dari ketiga warna memiliki persebaran yang berbeda-beda, namun dapat dipastikan nilai minimum dan maximum ketiga warna adalah 0 dan 255."
      ],
      "metadata": {
        "id": "Rt2990EPzIUs"
      }
    },
    {
      "cell_type": "markdown",
      "metadata": {
        "id": "nXXGzGxykIBv"
      },
      "source": [
        "# **Analysis Label**"
      ]
    },
    {
      "cell_type": "code",
      "execution_count": 27,
      "metadata": {
        "id": "94GltFvjRdhm"
      },
      "outputs": [],
      "source": [
        "df['label'] = [1 if x == 'Strong Acidic' else 2 if x == 'Weak Acidic' else 3 if x == 'Weak Alkaline' else 4 for x in df['label']]# Separate feature variables and target variable"
      ]
    },
    {
      "cell_type": "code",
      "execution_count": 28,
      "metadata": {
        "colab": {
          "base_uri": "https://localhost:8080/"
        },
        "id": "IKV13i-zOYDr",
        "outputId": "6b361bf8-2c47-48ab-8018-eac470ccce1c"
      },
      "outputs": [
        {
          "output_type": "execute_result",
          "data": {
            "text/plain": [
              "4    175\n",
              "1    170\n",
              "2    132\n",
              "3    132\n",
              "Name: label, dtype: int64"
            ]
          },
          "metadata": {},
          "execution_count": 28
        }
      ],
      "source": [
        "df['label'].value_counts()"
      ]
    },
    {
      "cell_type": "markdown",
      "source": [
        "kategori dari label sudah berhasil diubah menjadi angka dan dapat digunakan untuk klasifikasi, dan tidak terdapat error saat perubahan data yang ditunjukkan dengan jumlah counts yang sama seperti sebelumnya."
      ],
      "metadata": {
        "id": "PiC1oMak4ZGQ"
      }
    },
    {
      "cell_type": "markdown",
      "metadata": {
        "id": "BRSBeI8lkiik"
      },
      "source": [
        "# **Checking Outliers**"
      ]
    },
    {
      "cell_type": "code",
      "execution_count": 29,
      "metadata": {
        "colab": {
          "base_uri": "https://localhost:8080/",
          "height": 1000
        },
        "id": "RXw7HsmwkeBJ",
        "outputId": "9aa9ee6a-865b-43c0-f17b-5d15b98b996a"
      },
      "outputs": [
        {
          "output_type": "display_data",
          "data": {
            "text/plain": [
              "<Figure size 432x288 with 1 Axes>"
            ],
            "image/png": "[encoded data removed]"
          },
          "metadata": {
            "needs_background": "light"
          }
        },
        {
          "output_type": "display_data",
          "data": {
            "text/plain": [
              "<Figure size 432x288 with 1 Axes>"
            ],
            "image/png": "[encoded data removed]"
          },
          "metadata": {
            "needs_background": "light"
          }
        },
        {
          "output_type": "display_data",
          "data": {
            "text/plain": [
              "<Figure size 432x288 with 1 Axes>"
            ],
            "image/png": "[encoded data removed]"
          },
          "metadata": {
            "needs_background": "light"
          }
        },
        {
          "output_type": "display_data",
          "data": {
            "text/plain": [
              "<Figure size 432x288 with 1 Axes>"
            ],
            "image/png": "[encoded data removed]"
          },
          "metadata": {
            "needs_background": "light"
          }
        }
      ],
      "source": [
        "for i in df.columns:\n",
        "    sns.boxplot(data= df[i])\n",
        "    plt.title(i)\n",
        "    plt.show()"
      ]
    },
    {
      "cell_type": "markdown",
      "metadata": {
        "id": "jhoqUBY2o0cO"
      },
      "source": [
        "Tidak ditemukan adanya outlier pada dataset ketika menggunakan barplot untuk mengecek outliers"
      ]
    },
    {
      "cell_type": "markdown",
      "metadata": {
        "id": "HtfNZPldlCuI"
      },
      "source": [
        "# **Desnity Plot**"
      ]
    },
    {
      "cell_type": "code",
      "execution_count": 30,
      "metadata": {
        "colab": {
          "base_uri": "https://localhost:8080/",
          "height": 1000
        },
        "id": "jJaqz9-6NjR9",
        "outputId": "d1ec38f6-0eb7-4c3e-ada0-428bfe6c034c"
      },
      "outputs": [
        {
          "output_type": "display_data",
          "data": {
            "text/plain": [
              "<Figure size 432x288 with 1 Axes>"
            ],
            "image/png": "[encoded data removed]"
          },
          "metadata": {
            "needs_background": "light"
          }
        },
        {
          "output_type": "display_data",
          "data": {
            "text/plain": [
              "<Figure size 432x288 with 1 Axes>"
            ],
            "image/png": "[encoded data removed]"
          },
          "metadata": {
            "needs_background": "light"
          }
        },
        {
          "output_type": "display_data",
          "data": {
            "text/plain": [
              "<Figure size 432x288 with 1 Axes>"
            ],
            "image/png": "[encoded data removed]"
          },
          "metadata": {
            "needs_background": "light"
          }
        },
        {
          "output_type": "display_data",
          "data": {
            "text/plain": [
              "<Figure size 432x288 with 1 Axes>"
            ],
            "image/png": "[encoded data removed]"
          },
          "metadata": {
            "needs_background": "light"
          }
        }
      ],
      "source": [
        "for i in df.columns:\n",
        "    sns.distplot(df[i])\n",
        "    plt.title(i)\n",
        "    plt.show()"
      ]
    },
    {
      "cell_type": "markdown",
      "source": [
        "dari distribusi diatas, setiap warna memiliki distribusi value Lightness berbeda-beda yang berkisar antara 0-255. Jika value Lightness-nya 0, maka warnanya akan hitam, dan jika valuenya semakin naik maka Lightnessnya semakin terang.\n",
        "\n",
        "Hal tersebut berarti:\n",
        "- banyak warna 'blue' yang berwarna gelap\n",
        "- 'red' banyak yang berwarna merah pekat\n",
        "- dan 'green' banyak yang berwarna hijau yang cukup pekat\n",
        "\n",
        "contoh: jika pada 'Red' valuenya 0, maka red tersebut akan berwarna hitam, jika valuenya 255, maka akan menghasilkan warna merah pekat.\n",
        "\n",
        "Dan label Strong Acidic dan Strong Alkaline lebih banyak dibandingkan Weak Acidic dan Weak Alkaline\n",
        "\n"
      ],
      "metadata": {
        "id": "b3pBKxSpL2XK"
      }
    },
    {
      "cell_type": "markdown",
      "metadata": {
        "id": "GmNpDy_PlHTj"
      },
      "source": [
        "# **Correlation**"
      ]
    },
    {
      "cell_type": "code",
      "execution_count": 31,
      "metadata": {
        "colab": {
          "base_uri": "https://localhost:8080/",
          "height": 595
        },
        "id": "9hpEq_dDO2Zl",
        "outputId": "6b0bdcc8-4793-4ba3-ddf0-5d2707aa8aad"
      },
      "outputs": [
        {
          "output_type": "display_data",
          "data": {
            "text/plain": [
              "<Figure size 864x720 with 2 Axes>"
            ],
            "image/png": "[encoded data removed]"
          },
          "metadata": {
            "needs_background": "light"
          }
        }
      ],
      "source": [
        "plt.figure(figsize=(12,10))\n",
        "p = sns.heatmap(df.corr(), annot=True,cmap ='RdYlGn') "
      ]
    },
    {
      "cell_type": "markdown",
      "source": [
        "- `blue` memiliki strong positive correlation\n",
        "- `red` punya strong negative correlation \n",
        "- `green` memiliki weak negative correlation\n",
        "\n",
        "hal ini masuk akal, jika semakin tinggi value `blue`, maka semakin kuat pH alkalinenya, dengan label alkaline berada di nilai 3 dan 4.\n",
        "\n",
        "Berlaku sebaliknya untuk `red` dengan negative correlationnya, jika semakin tinggi value `red`, maka semakin rendah nilai label (1 dan 2) yang berarti pH-nya semakin asam.\n",
        "\n",
        "Namun correlation dari `green` dengan output `label` tidak sekuat `blue` dan `red`."
      ],
      "metadata": {
        "id": "VKkzvn0-8Rer"
      }
    },
    {
      "cell_type": "markdown",
      "metadata": {
        "id": "2MpJPMfpNxgU"
      },
      "source": [
        "# **Splitting Dataset**"
      ]
    },
    {
      "cell_type": "code",
      "execution_count": 32,
      "metadata": {
        "id": "X6_rx_UimcPI"
      },
      "outputs": [],
      "source": [
        "X = df.drop(['label'], axis = 1)\n",
        "y = df['label']"
      ]
    },
    {
      "cell_type": "code",
      "execution_count": 33,
      "metadata": {
        "colab": {
          "base_uri": "https://localhost:8080/",
          "height": 206
        },
        "id": "M_euuWx7nGbW",
        "outputId": "76bc2599-00b0-4cb6-8701-6729583ac96b"
      },
      "outputs": [
        {
          "output_type": "execute_result",
          "data": {
            "text/plain": [
              "   blue  green  red\n",
              "0    36     27  231\n",
              "1    36     84  250\n",
              "2    37    164  255\n",
              "3    22    205  255\n",
              "4    38    223  221"
            ],
            "text/html": [
              "\n",
              "  <div id=\"df-ba659d8a-675a-4271-bb32-c9c03741fbe8\">\n",
              "    <div class=\"colab-df-container\">\n",
              "      <div>\n",
              "<style scoped>\n",
              "    .dataframe tbody tr th:only-of-type {\n",
              "        vertical-align: middle;\n",
              "    }\n",
              "\n",
              "    .dataframe tbody tr th {\n",
              "        vertical-align: top;\n",
              "    }\n",
              "\n",
              "    .dataframe thead th {\n",
              "        text-align: right;\n",
              "    }\n",
              "</style>\n",
              "<table border=\"1\" class=\"dataframe\">\n",
              "  <thead>\n",
              "    <tr style=\"text-align: right;\">\n",
              "      <th></th>\n",
              "      <th>blue</th>\n",
              "      <th>green</th>\n",
              "      <th>red</th>\n",
              "    </tr>\n",
              "  </thead>\n",
              "  <tbody>\n",
              "    <tr>\n",
              "      <th>0</th>\n",
              "      <td>36</td>\n",
              "      <td>27</td>\n",
              "      <td>231</td>\n",
              "    </tr>\n",
              "    <tr>\n",
              "      <th>1</th>\n",
              "      <td>36</td>\n",
              "      <td>84</td>\n",
              "      <td>250</td>\n",
              "    </tr>\n",
              "    <tr>\n",
              "      <th>2</th>\n",
              "      <td>37</td>\n",
              "      <td>164</td>\n",
              "      <td>255</td>\n",
              "    </tr>\n",
              "    <tr>\n",
              "      <th>3</th>\n",
              "      <td>22</td>\n",
              "      <td>205</td>\n",
              "      <td>255</td>\n",
              "    </tr>\n",
              "    <tr>\n",
              "      <th>4</th>\n",
              "      <td>38</td>\n",
              "      <td>223</td>\n",
              "      <td>221</td>\n",
              "    </tr>\n",
              "  </tbody>\n",
              "</table>\n",
              "</div>\n",
              "      <button class=\"colab-df-convert\" onclick=\"convertToInteractive('df-ba659d8a-675a-4271-bb32-c9c03741fbe8')\"\n",
              "              title=\"Convert this dataframe to an interactive table.\"\n",
              "              style=\"display:none;\">\n",
              "        \n",
              "  <svg xmlns=\"http://www.w3.org/2000/svg\" height=\"24px\"viewBox=\"0 0 24 24\"\n",
              "       width=\"24px\">\n",
              "    <path d=\"M0 0h24v24H0V0z\" fill=\"none\"/>\n",
              "    <path d=\"M18.56 5.44l.94 2.06.94-2.06 2.06-.94-2.06-.94-.94-2.06-.94 2.06-2.06.94zm-11 1L8.5 8.5l.94-2.06 2.06-.94-2.06-.94L8.5 2.5l-.94 2.06-2.06.94zm10 10l.94 2.06.94-2.06 2.06-.94-2.06-.94-.94-2.06-.94 2.06-2.06.94z\"/><path d=\"M17.41 7.96l-1.37-1.37c-.4-.4-.92-.59-1.43-.59-.52 0-1.04.2-1.43.59L10.3 9.45l-7.72 7.72c-.78.78-.78 2.05 0 2.83L4 21.41c.39.39.9.59 1.41.59.51 0 1.02-.2 1.41-.59l7.78-7.78 2.81-2.81c.8-.78.8-2.07 0-2.86zM5.41 20L4 18.59l7.72-7.72 1.47 1.35L5.41 20z\"/>\n",
              "  </svg>\n",
              "      </button>\n",
              "      \n",
              "  <style>\n",
              "    .colab-df-container {\n",
              "      display:flex;\n",
              "      flex-wrap:wrap;\n",
              "      gap: 12px;\n",
              "    }\n",
              "\n",
              "    .colab-df-convert {\n",
              "      background-color: #E8F0FE;\n",
              "      border: none;\n",
              "      border-radius: 50%;\n",
              "      cursor: pointer;\n",
              "      display: none;\n",
              "      fill: #1967D2;\n",
              "      height: 32px;\n",
              "      padding: 0 0 0 0;\n",
              "      width: 32px;\n",
              "    }\n",
              "\n",
              "    .colab-df-convert:hover {\n",
              "      background-color: #E2EBFA;\n",
              "      box-shadow: 0px 1px 2px rgba(60, 64, 67, 0.3), 0px 1px 3px 1px rgba(60, 64, 67, 0.15);\n",
              "      fill: #174EA6;\n",
              "    }\n",
              "\n",
              "    [theme=dark] .colab-df-convert {\n",
              "      background-color: #3B4455;\n",
              "      fill: #D2E3FC;\n",
              "    }\n",
              "\n",
              "    [theme=dark] .colab-df-convert:hover {\n",
              "      background-color: #434B5C;\n",
              "      box-shadow: 0px 1px 3px 1px rgba(0, 0, 0, 0.15);\n",
              "      filter: drop-shadow(0px 1px 2px rgba(0, 0, 0, 0.3));\n",
              "      fill: #FFFFFF;\n",
              "    }\n",
              "  </style>\n",
              "\n",
              "      <script>\n",
              "        const buttonEl =\n",
              "          document.querySelector('#df-ba659d8a-675a-4271-bb32-c9c03741fbe8 button.colab-df-convert');\n",
              "        buttonEl.style.display =\n",
              "          google.colab.kernel.accessAllowed ? 'block' : 'none';\n",
              "\n",
              "        async function convertToInteractive(key) {\n",
              "          const element = document.querySelector('#df-ba659d8a-675a-4271-bb32-c9c03741fbe8');\n",
              "          const dataTable =\n",
              "            await google.colab.kernel.invokeFunction('convertToInteractive',\n",
              "                                                     [key], {});\n",
              "          if (!dataTable) return;\n",
              "\n",
              "          const docLinkHtml = 'Like what you see? Visit the ' +\n",
              "            '<a target=\"_blank\" href=https://colab.research.google.com/notebooks/data_table.ipynb>data table notebook</a>'\n",
              "            + ' to learn more about interactive tables.';\n",
              "          element.innerHTML = '';\n",
              "          dataTable['output_type'] = 'display_data';\n",
              "          await google.colab.output.renderOutput(dataTable, element);\n",
              "          const docLink = document.createElement('div');\n",
              "          docLink.innerHTML = docLinkHtml;\n",
              "          element.appendChild(docLink);\n",
              "        }\n",
              "      </script>\n",
              "    </div>\n",
              "  </div>\n",
              "  "
            ]
          },
          "metadata": {},
          "execution_count": 33
        }
      ],
      "source": [
        "X.head()"
      ]
    },
    {
      "cell_type": "code",
      "execution_count": 34,
      "metadata": {
        "colab": {
          "base_uri": "https://localhost:8080/"
        },
        "id": "e2BjOg1fnK_N",
        "outputId": "d9078582-d800-4f6c-d1e9-075f5eea52a2"
      },
      "outputs": [
        {
          "output_type": "execute_result",
          "data": {
            "text/plain": [
              "0    1\n",
              "1    1\n",
              "2    1\n",
              "3    1\n",
              "4    2\n",
              "Name: label, dtype: int64"
            ]
          },
          "metadata": {},
          "execution_count": 34
        }
      ],
      "source": [
        "y.head()"
      ]
    },
    {
      "cell_type": "code",
      "execution_count": 35,
      "metadata": {
        "id": "OM7EeKyPnNSA"
      },
      "outputs": [],
      "source": [
        "X_train, X_test, y_train, y_test = train_test_split(X,y, test_size=0.30,random_state=43)"
      ]
    },
    {
      "cell_type": "markdown",
      "source": [
        "kami membagi dataset dengan perbandingan 30% untuk test dan 70% untuk training dari data output sudah di assign ke variabel y, dan sisanya sudah diassign ke variabel X."
      ],
      "metadata": {
        "id": "qcLPHGmX__lI"
      }
    },
    {
      "cell_type": "markdown",
      "metadata": {
        "id": "tvegPaK6UF7J"
      },
      "source": [
        "# **Training Machine Learning Models**"
      ]
    },
    {
      "cell_type": "markdown",
      "source": [
        "Kami akan menggunakan beberapa algoritma untuk membandingkan model apa yang terbaik. Dan memamkai Classification Report dan Confusion Matrix untuk mengevaluasi tiap model"
      ],
      "metadata": {
        "id": "3HrMd7n48Amx"
      }
    },
    {
      "cell_type": "code",
      "execution_count": 44,
      "metadata": {
        "colab": {
          "base_uri": "https://localhost:8080/"
        },
        "id": "OYGNaS6Oojq_",
        "outputId": "92b8efff-e5a7-4f56-9d57-4569f87d30d0"
      },
      "outputs": [
        {
          "output_type": "stream",
          "name": "stdout",
          "text": [
            "              precision    recall  f1-score   support\n",
            "\n",
            "           1       0.89      0.95      0.92        44\n",
            "           2       0.86      0.88      0.87        41\n",
            "           3       0.88      0.83      0.85        35\n",
            "           4       0.97      0.94      0.95        63\n",
            "\n",
            "    accuracy                           0.91       183\n",
            "   macro avg       0.90      0.90      0.90       183\n",
            "weighted avg       0.91      0.91      0.91       183\n",
            "\n",
            "[[42  2  0  0]\n",
            " [ 5 36  0  0]\n",
            " [ 0  4 29  2]\n",
            " [ 0  0  4 59]]\n"
          ]
        }
      ],
      "source": [
        "knn = KNeighborsClassifier()\n",
        "knnModel = knn.fit(X_train,y_train)\n",
        "knnPred = knn.predict(X_test)\n",
        "print(classification_report(y_test,knnPred))\n",
        "print(confusion_matrix(y_test, knnPred))"
      ]
    },
    {
      "cell_type": "code",
      "execution_count": 37,
      "metadata": {
        "colab": {
          "base_uri": "https://localhost:8080/"
        },
        "id": "LGhZSXh2ojyI",
        "outputId": "ceed90e0-4683-4c73-ca73-3ab0698b1df9"
      },
      "outputs": [
        {
          "output_type": "stream",
          "name": "stdout",
          "text": [
            "              precision    recall  f1-score   support\n",
            "\n",
            "           1       0.89      0.95      0.92        44\n",
            "           2       0.88      0.73      0.80        41\n",
            "           3       0.74      0.83      0.78        35\n",
            "           4       0.94      0.94      0.94        63\n",
            "\n",
            "    accuracy                           0.87       183\n",
            "   macro avg       0.86      0.86      0.86       183\n",
            "weighted avg       0.88      0.87      0.87       183\n",
            "\n",
            "[[42  2  0  0]\n",
            " [ 5 30  6  0]\n",
            " [ 0  2 29  4]\n",
            " [ 0  0  4 59]]\n"
          ]
        }
      ],
      "source": [
        "dt = DecisionTreeClassifier()\n",
        "dtModel = dt.fit(X_train,y_train)\n",
        "dtPred = dt.predict(X_test)\n",
        "print(classification_report(y_test,dtPred))\n",
        "print(confusion_matrix(y_test, dtPred))"
      ]
    },
    {
      "cell_type": "code",
      "execution_count": 38,
      "metadata": {
        "colab": {
          "base_uri": "https://localhost:8080/"
        },
        "id": "SBRy9Bahoj0-",
        "outputId": "1071ea31-ec0f-4c18-ff76-b3cf12bd65c4"
      },
      "outputs": [
        {
          "output_type": "stream",
          "name": "stdout",
          "text": [
            "              precision    recall  f1-score   support\n",
            "\n",
            "           1       0.88      1.00      0.94        44\n",
            "           2       0.89      0.83      0.86        41\n",
            "           3       0.85      0.83      0.84        35\n",
            "           4       0.97      0.94      0.95        63\n",
            "\n",
            "    accuracy                           0.91       183\n",
            "   macro avg       0.90      0.90      0.90       183\n",
            "weighted avg       0.91      0.91      0.91       183\n",
            "\n",
            "[[44  0  0  0]\n",
            " [ 6 34  1  0]\n",
            " [ 0  4 29  2]\n",
            " [ 0  0  4 59]]\n"
          ]
        }
      ],
      "source": [
        "svm = SVC()\n",
        "svmModel = svm.fit(X_train,y_train)\n",
        "svmPred = svm.predict(X_test)\n",
        "print(classification_report(y_test,svmPred))\n",
        "print(confusion_matrix(y_test, svmPred))"
      ]
    },
    {
      "cell_type": "code",
      "execution_count": 39,
      "metadata": {
        "colab": {
          "base_uri": "https://localhost:8080/"
        },
        "id": "IXZIl3Peoq6v",
        "outputId": "6b74a6d1-6f4d-404f-b72f-b8e1b1660a60"
      },
      "outputs": [
        {
          "output_type": "stream",
          "name": "stdout",
          "text": [
            "              precision    recall  f1-score   support\n",
            "\n",
            "           1       0.90      1.00      0.95        44\n",
            "           2       0.90      0.85      0.88        41\n",
            "           3       0.85      0.83      0.84        35\n",
            "           4       0.97      0.94      0.95        63\n",
            "\n",
            "    accuracy                           0.91       183\n",
            "   macro avg       0.90      0.90      0.90       183\n",
            "weighted avg       0.91      0.91      0.91       183\n",
            "\n",
            "[[44  0  0  0]\n",
            " [ 5 35  1  0]\n",
            " [ 0  4 29  2]\n",
            " [ 0  0  4 59]]\n"
          ]
        }
      ],
      "source": [
        "estimators = [('svm',svm), ('KNN',knn), ('DecisionTree',dt)]\n",
        "ensemble = VotingClassifier(estimators, voting = 'hard')\n",
        "ensembleModel = ensemble.fit(X_train,y_train)\n",
        "ensemblePred = ensemble.predict(X_test)\n",
        "print(classification_report(y_test, ensemblePred))\n",
        "print(confusion_matrix(y_test, ensemblePred))"
      ]
    },
    {
      "cell_type": "code",
      "execution_count": 40,
      "metadata": {
        "colab": {
          "base_uri": "https://localhost:8080/"
        },
        "id": "CVbCKyO_r9pF",
        "outputId": "3dbf1af7-5698-4a6c-acd5-45258b4a90bd"
      },
      "outputs": [
        {
          "output_type": "stream",
          "name": "stdout",
          "text": [
            "Best Parameters using grid search: \n",
            " {'bootstrap': True, 'criterion': 'entropy', 'max_depth': 4, 'max_features': None}\n",
            "Time taken in grid search:  56.68\n"
          ]
        }
      ],
      "source": [
        "start = time.time()\n",
        "param_dist = {'max_depth': [2,3,4],\n",
        "             'bootstrap': [True,False],\n",
        "             'max_features': ['auto','sqrt','log2',None],\n",
        "             'criterion': ['gini','entropy']}\n",
        "\n",
        "fit_rf = RandomForestClassifier()\n",
        "cv_rf = GridSearchCV(fit_rf, cv = 10, param_grid = param_dist, n_jobs = 3)\n",
        "\n",
        "rfModel = cv_rf.fit(X_train,y_train)\n",
        "print('Best Parameters using grid search: \\n', cv_rf.best_params_)\n",
        "end = time.time()\n",
        "print('Time taken in grid search: {0: .2f}'.format(end -start))"
      ]
    },
    {
      "cell_type": "code",
      "execution_count": 41,
      "metadata": {
        "colab": {
          "base_uri": "https://localhost:8080/"
        },
        "id": "EFoLV2PBorAR",
        "outputId": "49c3590d-6d35-428d-8c7c-76a6e7067d34"
      },
      "outputs": [
        {
          "output_type": "stream",
          "name": "stdout",
          "text": [
            "              precision    recall  f1-score   support\n",
            "\n",
            "           1       0.90      1.00      0.95        44\n",
            "           2       0.95      0.88      0.91        41\n",
            "           3       0.89      0.89      0.89        35\n",
            "           4       0.97      0.94      0.95        63\n",
            "\n",
            "    accuracy                           0.93       183\n",
            "   macro avg       0.92      0.93      0.92       183\n",
            "weighted avg       0.93      0.93      0.93       183\n",
            "\n",
            "[[44  0  0  0]\n",
            " [ 5 36  0  0]\n",
            " [ 0  2 31  2]\n",
            " [ 0  0  4 59]]\n"
          ]
        }
      ],
      "source": [
        "rfPred = cv_rf.predict(X_test)\n",
        "print(classification_report(y_test,rfPred))\n",
        "print(confusion_matrix(y_test, rfPred))"
      ]
    },
    {
      "cell_type": "code",
      "execution_count": 42,
      "metadata": {
        "colab": {
          "base_uri": "https://localhost:8080/"
        },
        "id": "PqEk2rKvorCv",
        "outputId": "17ab4b32-80c7-41c1-cf2d-599818e7a161"
      },
      "outputs": [
        {
          "output_type": "stream",
          "name": "stdout",
          "text": [
            "              precision    recall  f1-score   support\n",
            "\n",
            "           1       0.54      1.00      0.70        44\n",
            "           2       0.57      0.10      0.17        41\n",
            "           3       0.35      0.86      0.50        35\n",
            "           4       1.00      0.13      0.23        63\n",
            "\n",
            "    accuracy                           0.47       183\n",
            "   macro avg       0.61      0.52      0.40       183\n",
            "weighted avg       0.67      0.47      0.38       183\n",
            "\n",
            "[[44  0  0  0]\n",
            " [36  4  1  0]\n",
            " [ 2  3 30  0]\n",
            " [ 0  0 55  8]]\n"
          ]
        }
      ],
      "source": [
        "adaBoost = AdaBoostClassifier()\n",
        "abModel = adaBoost.fit(X_train,y_train)\n",
        "abPred = adaBoost.predict(X_test)\n",
        "print(classification_report(y_test, abPred))\n",
        "print(confusion_matrix(y_test, abPred))"
      ]
    },
    {
      "cell_type": "code",
      "execution_count": 43,
      "metadata": {
        "colab": {
          "base_uri": "https://localhost:8080/"
        },
        "id": "rFcUnfk0orFN",
        "outputId": "423ccfee-4dc0-477a-dd02-1b4d609019fd"
      },
      "outputs": [
        {
          "output_type": "stream",
          "name": "stdout",
          "text": [
            "              precision    recall  f1-score   support\n",
            "\n",
            "           1       0.91      0.95      0.93        44\n",
            "           2       0.89      0.76      0.82        41\n",
            "           3       0.73      0.86      0.79        35\n",
            "           4       0.95      0.92      0.94        63\n",
            "\n",
            "    accuracy                           0.88       183\n",
            "   macro avg       0.87      0.87      0.87       183\n",
            "weighted avg       0.89      0.88      0.88       183\n",
            "\n",
            "[[42  2  0  0]\n",
            " [ 4 31  6  0]\n",
            " [ 0  2 30  3]\n",
            " [ 0  0  5 58]]\n"
          ]
        }
      ],
      "source": [
        "bc = BaggingClassifier()\n",
        "bcModel = bc.fit(X_train, y_train)\n",
        "bcPred = bc.predict(X_test)\n",
        "print(classification_report(y_test, bcPred))\n",
        "print(confusion_matrix(y_test, bcPred))"
      ]
    },
    {
      "cell_type": "markdown",
      "source": [
        "## Results"
      ],
      "metadata": {
        "id": "sJL6EwD_-0OB"
      }
    },
    {
      "cell_type": "markdown",
      "source": [
        "kami menggunakan beberapa algoritma machine learning, yaitu: Decision Tree, KNN, SVM, Ensemble Learning, Random Forest with Grid Search, adaBoost, Bagging Classifier. Dari training yang dilakukan, model dengan algoritma KNN dan Random Forest with Grid Search adalah model terbaik untuk permasalahan kami.\n",
        "\n",
        "dengan pembahasan antara KNN dan Random Forest sebagai berikut:\n",
        "- model dengan Random Forest memiliki nilai lebih tinggi secara keseluruhan dibandingkan KNN\n",
        "\n",
        "- Komputasi yang cepat oleh KNN sebenarnya pun menghasilkan performa yang dapat dibilang bagus walau tidak setinggi Random Forest dengan komputasi lebih lama\n",
        "\n",
        "- ‘Weak Alkaline’ memiliki misklasifikasi terbanyak\n"
      ],
      "metadata": {
        "id": "RvX2ukdk-5X1"
      }
    },
    {
      "cell_type": "markdown",
      "source": [
        "## Conclusion"
      ],
      "metadata": {
        "id": "mXBYW07HBL97"
      }
    },
    {
      "cell_type": "markdown",
      "source": [
        "Dari kedua model, yaitu KNN dan Random Forest dengan Grid Search sama-sama memiliki precision, recall, dan accuracy yang baik untuk mengklasifikasikan label dari nilai pH, dengan performa model Random Forest lebih tinggi secara keseluruhan dibandingkan performa KNN.\n",
        "\n",
        "Dengan goal untuk mengklasifikan nilai pH dengan RGB value dengan tepat, memilih Random Forest dengan Grid Search adalah model machine learning yang terbaik untuk menyelesaikan masalah ini. Dan nilai recall yang tinggi oleh Random Forest menunjukkan model ini dapat mengkategorikan pH dengan baik.\n",
        "\n",
        "Dan menurut kami model Random Forest kami sudah baik, tidak diperlukan pemrosesan lebih lanjut seperti fine tuning."
      ],
      "metadata": {
        "id": "0LuCrphtBTVW"
      }
    }
  ],
  "metadata": {
    "colab": {
      "provenance": []
    },
    "kernelspec": {
      "display_name": "Python 3",
      "name": "python3"
    },
    "language_info": {
      "name": "python"
    }
  },
  "nbformat": 4,
  "nbformat_minor": 0
}